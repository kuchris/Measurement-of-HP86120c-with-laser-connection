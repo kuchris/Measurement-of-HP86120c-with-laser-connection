{
 "cells": [
  {
   "cell_type": "code",
   "execution_count": 1,
   "metadata": {},
   "outputs": [],
   "source": [
    "import serial\n",
    "import time\n",
    "import threading\n",
    "import os\n",
    "\n",
    "\n",
    "import glob\n",
    "import pymeasure\n",
    "import pyvisa\n",
    "import numpy as np\n",
    "import matplotlib.pyplot as plt\n",
    "import pandas as pd\n",
    "from time import sleep\n",
    "from scipy.signal import argrelextrema\n",
    "from tqdm.notebook import tqdm\n",
    "plt.style.use(['science','nature','notebook'])\n",
    "\n",
    "\n",
    "#my_path = os.path.abspath(r'C:\\Users\\KuChris\\Desktop\\laser')\n",
    "my_path = os.getcwd()"
   ]
  },
  {
   "cell_type": "code",
   "execution_count": 2,
   "metadata": {},
   "outputs": [],
   "source": [
    "##Reg\n",
    "ITLA_NOERROR=0x00\n",
    "ITLA_EXERROR=0x01\n",
    "ITLA_AEERROR=0x02\n",
    "ITLA_CPERROR=0x03\n",
    "ITLA_NRERROR=0x04\n",
    "ITLA_CSERROR=0x05\n",
    "ITLA_ERROR_SERPORT=0x01\n",
    "ITLA_ERROR_SERBAUD=0x02\n",
    "\n",
    "REG_Nop=0x00\n",
    "REG_Mfgr=0x02\n",
    "REG_Model=0x03\n",
    "REG_Serial=0x04\n",
    "REG_Release=0x06\n",
    "REG_Gencfg=0x08\n",
    "REG_AeaEar=0x0B\n",
    "REG_Iocap=0x0D\n",
    "REG_Ear=0x10\n",
    "REG_Dlconfig=0x14\n",
    "REG_Dlstatus=0x15\n",
    "REG_Channel=0x30\n",
    "REG_Power=0x31\n",
    "REG_Resena=0x32\n",
    "REG_Grid=0x34\n",
    "REG_Fcf1=0x35\n",
    "REG_Fcf2=0x36\n",
    "REG_LF1=0x40\n",
    "REG_LF2=0x41\n",
    "REG_Oop=0x42\n",
    "REG_CTemp=0x43\n",
    "REG_Opsl=0x50\n",
    "REG_Opsh=0x51\n",
    "REG_Lfl1=0x52\n",
    "REG_Lfl2=0x53\n",
    "REG_Lfh1=0x54\n",
    "REG_Lfh2=0x55\n",
    "REG_Currents=0x57\n",
    "REG_Temps=0x58\n",
    "REG_Ftf=0x62\n",
    "REG_Mode=0x90\n",
    "REG_PW=0xE0\n",
    "REG_Csweepsena=0xE5\n",
    "REG_Csweepamp=0xE4\n",
    "REG_Cscanamp=0xE4\n",
    "REG_Cscanon=0xE5\n",
    "REG_Csweepon=0xE5\n",
    "REG_Csweepoffset=0xE6\n",
    "REG_Cscanoffset=0xE6\n",
    "REG_Cscansled=0xF0\n",
    "REG_Cscanf1=0xF1\n",
    "REG_Cscanf2=0xF2\n",
    "REG_CjumpTHz=0xEA\n",
    "REG_CjumpGHz=0xEB\n",
    "REG_CjumpSled=0xEC\n",
    "REG_Cjumpon=0xED\n",
    "REG_Cjumpoffset=0xE6\n",
    "\n",
    "READ=0\n",
    "WRITE=1\n",
    "latestregister=0\n",
    "tempport=0\n",
    "raybin=0\n",
    "queue=[]\n",
    "maxrowticket=0\n",
    "\n",
    "_error=ITLA_NOERROR\n",
    "seriallock=0"
   ]
  },
  {
   "cell_type": "code",
   "execution_count": 3,
   "metadata": {},
   "outputs": [],
   "source": [
    "##functions\n",
    "def stripString(input):\n",
    "    outp=''\n",
    "    input=str(input)\n",
    "    teller=0\n",
    "    while teller<len(input) and ord(input[teller])>47:\n",
    "        outp=outp+input[teller]\n",
    "        teller=teller+1\n",
    "    return(int(outp))\n",
    "\n",
    "def checksum(byte0,byte1,byte2,byte3):\n",
    "    bip8=(byte0&0x0f)^byte1^byte2^byte3\n",
    "    bip4=((bip8&0xf0)>>4)^(bip8&0x0f)\n",
    "    return bip4\n",
    "\n",
    "def Send_command(sercon,byte0,byte1,byte2,byte3):\n",
    "    sercon.write([byte0,byte1,byte2,byte3])\n",
    "\n",
    "def Receive_response(sercon):\n",
    "    global _error,queue\n",
    "    reftime=time.perf_counter()\n",
    "    while sercon.inWaiting()<4:\n",
    "        if time.perf_counter()>reftime+0.25:\n",
    "            _error=ITLA_NRERROR\n",
    "            return(0xFF,0xFF,0xFF,0xFF)\n",
    "        time.sleep(0.0001)\n",
    "    try:\n",
    "        byte0=ord(sercon.read(1))\n",
    "        byte1=ord(sercon.read(1))\n",
    "        byte2=ord(sercon.read(1))\n",
    "        byte3=ord(sercon.read(1))\n",
    "    except:\n",
    "        print ('problem with serial communication. queue[0] =',queue)\n",
    "        byte0=0xFF\n",
    "        byte1=0xFF\n",
    "        byte2=0xFF\n",
    "        byte3=0xFF\n",
    "    if checksum(byte0,byte1,byte2,byte3)==byte0>>4:\n",
    "        _error=byte0&0x03\n",
    "        return(byte0,byte1,byte2,byte3, hex(byte0),hex(byte1),hex(byte2),hex(byte3))\n",
    "    else:\n",
    "        _error=ITLA_CSERROR\n",
    "        return(hex(byte0),hex(byte1),hex(byte2),hex(byte3))\n",
    "\n",
    "def ITLA(sercon,register,data,rw):\n",
    "    global latestregister\n",
    "    lock=threading.Lock()\n",
    "    lock.acquire()\n",
    "    global queue\n",
    "    global maxrowticket\n",
    "    rowticket=maxrowticket+1\n",
    "    maxrowticket=maxrowticket+1\n",
    "    queue.append(rowticket)\n",
    "    lock.release()\n",
    "    while queue[0]!=rowticket:\n",
    "        rowticket=rowticket\n",
    "    if rw==0:\n",
    "        byte2=int(data/256)\n",
    "        byte3=int(data-byte2*256)\n",
    "        latestregister=register\n",
    "        Send_command(sercon,int(checksum(0,register,byte2,byte3))*16,register,byte2,byte3)\n",
    "        test=Receive_response(sercon)\n",
    "        b0=test[0]\n",
    "        b1=test[1]\n",
    "        b2=test[2]\n",
    "        b3=test[3]\n",
    "        if (b0&0x03)==0x02:\n",
    "            test=AEA(sercon,b2*256+b3)\n",
    "            lock.acquire()\n",
    "            queue.pop(0)\n",
    "            lock.release()\n",
    "            return test\n",
    "        lock.acquire()\n",
    "        queue.pop(0)\n",
    "        lock.release()\n",
    "        return b2*256+b3\n",
    "    else:\n",
    "        byte2=int(data/256)\n",
    "        byte3=int(data-byte2*256)\n",
    "        Send_command(sercon,int(checksum(1,register,byte2,byte3))*16+1,register,byte2,byte3)\n",
    "        test=Receive_response(sercon)\n",
    "        lock.acquire()\n",
    "        queue.pop(0)\n",
    "        lock.release()\n",
    "        return(test[2]*256+test[3])\n",
    "\n",
    "\n",
    "def AEA(sercon,bytes):\n",
    "    outp=''\n",
    "    while bytes>0:\n",
    "        Send_command(sercon,int(checksum(0,REG_AeaEar,0,0))*16,REG_AeaEar,0,0)\n",
    "        test=Receive_response(sercon)\n",
    "        outp=outp+chr(test[2])\n",
    "        outp=outp+chr(test[3])\n",
    "        bytes=bytes-2\n",
    "    return outp\n",
    "\n",
    "def ITLAConnect(port,baudrate):\n",
    "    global CoBrite\n",
    "    reftime=time.perf_counter()\n",
    "    connected=False\n",
    "    try:\n",
    "        s = serial.Serial(port, baudrate , timeout=1, bytesize=8)\n",
    "    except serial.SerialException:\n",
    "        return(ITLA_ERROR_SERPORT)\n",
    "    baudrate2=4800\n",
    "    while baudrate2<115200:\n",
    "        ITLA(s,REG_Nop,0,0)\n",
    "        if ITLALastError()!=ITLA_NOERROR:\n",
    "            #go to next baudrate\n",
    "            if baudrate2==4800:baudrate2=9600\n",
    "            elif baudrate2==9600: baudrate2=19200\n",
    "            elif baudrate2==19200: baudrate2=38400\n",
    "            elif baudrate2==38400:baudrate2=57600\n",
    "            elif baudrate2==57600:baudrate2=115200\n",
    "            s.close()\n",
    "            s = serial.Serial(port,baudrate2 , timeout=1, bytesize=8)\n",
    "        else:\n",
    "            return(s)\n",
    "    s.close()\n",
    "    return(ITLA_ERROR_SERBAUD)\n",
    "\n",
    "def ITLALastError():\n",
    "    return(_error)    "
   ]
  },
  {
   "cell_type": "code",
   "execution_count": 4,
   "metadata": {},
   "outputs": [],
   "source": [
    "##Connection\n",
    "\n",
    "#ITLAConnect(\"COM4\",9600)\n",
    "s = serial.Serial(port=\"COM4\", baudrate=9600, bytesize=8, timeout=1, stopbits=serial.STOPBITS_ONE)\n",
    "\n",
    "#if s.isOpen() == True:\n",
    "    #print(s.name + ' is connected.')\n",
    "#else:\n",
    "    #print ('port is not connected.')"
   ]
  },
  {
   "cell_type": "code",
   "execution_count": 5,
   "metadata": {},
   "outputs": [
    {
     "data": {
      "text/plain": [
       "16"
      ]
     },
     "execution_count": 5,
     "metadata": {},
     "output_type": "execute_result"
    }
   ],
   "source": [
    "ITLA(s,REG_Nop,0,0)"
   ]
  },
  {
   "cell_type": "code",
   "execution_count": 6,
   "metadata": {},
   "outputs": [
    {
     "name": "stdout",
     "output_type": "stream",
     "text": [
      "lfl= 191.29Thz lfh= 196.09Thz\n"
     ]
    }
   ],
   "source": [
    "##Setting\n",
    "#Reset\n",
    "ITLA(s,REG_Resena,0,1)\n",
    "\n",
    "#ask for Lowest and highest Fre\n",
    "lfl = (ITLA(s,REG_Lfl1,0,0) + ITLA(s,REG_Lfl2,0,0)*0.0001)\n",
    "lfh = (ITLA(s,REG_Lfh1,0,0) + ITLA(s,REG_Lfh2,0,0)*0.0001)\n",
    "print('lfl= '+str(lfl)+'Thz' +' ' 'lfh= ' + str(lfh)+'Thz')\n",
    "\n",
    "Power = 1000\n",
    "Grid = 1000\n",
    "Channel = 1\n",
    "#Fre = lfl\n",
    "Fre = 191.3\n",
    "finefre = 0"
   ]
  },
  {
   "cell_type": "code",
   "execution_count": 11,
   "metadata": {},
   "outputs": [
    {
     "name": "stdout",
     "output_type": "stream",
     "text": [
      "Temp = 50.0C\n",
      "Power = 10.0dBm\n",
      "Grid = 1000\n",
      "Channel = 1\n",
      "Frequency = 191.3THz\n",
      "Fine tune Frequency = 0\n"
     ]
    }
   ],
   "source": [
    "#Nop\n",
    "#ITLA(s,0x00,0,0)\n",
    "\n",
    "#Temp\n",
    "print('Temp = ' + str(ITLA(s,REG_CTemp,0,0)/100)+'C')\n",
    "\n",
    "\n",
    "#Set PWR level\n",
    "Power = 1000\n",
    "ITLA(s,REG_Power,Power,1)\n",
    "#p = ITLA(s,REG_Oop,0,0)\n",
    "print('Power = ' + str(Power*0.01) + 'dBm')\n",
    "\n",
    "#Set Grid\n",
    "ITLA(s,REG_Grid,Grid,1)\n",
    "print('Grid = ' + str(Grid))\n",
    "\n",
    "#Set Channel\n",
    "Channel = 1\n",
    "ITLA(s,REG_Channel,Channel,1)\n",
    "print('Channel = ' + str(Channel))\n",
    "\n",
    "#Set Frequency\n",
    "Fre1 = int(Fre)\n",
    "Fre2 = int(round((float(Fre) - Fre1) * 10000, 4))\n",
    "ITLA(s,REG_Fcf1,Fre1,1)\n",
    "ITLA(s,REG_Fcf2,Fre2,1)\n",
    "fr = ITLA(s,REG_LF1,0,0)+ITLA(s,REG_LF2,0,0)*0.0001\n",
    "print('Frequency = ' + str(fr) + 'THz')\n",
    "\n",
    "#Set Fine tune Frequency\n",
    "ITLA(s,REG_Ftf,finefre,1)\n",
    "print('Fine tune Frequency = ' + str(ITLA(s,REG_Ftf,0,0)))"
   ]
  },
  {
   "cell_type": "code",
   "execution_count": 8,
   "metadata": {},
   "outputs": [],
   "source": [
    "#from pymeasure.instruments.anritsu import AnritsuMS9710C\n",
    "from pymeasure.instruments.anritsu import AnritsuMS9740A\n",
    "from pymeasure.adapters import VISAAdapter"
   ]
  },
  {
   "cell_type": "code",
   "execution_count": 9,
   "metadata": {},
   "outputs": [],
   "source": [
    "adapter = VISAAdapter(\"GPIB::1\", timeout=10000)\n",
    "#ms9710 = pymeasure.instruments.anritsu.AnritsuMS9710C(adapter)\n",
    "ms9710 = pymeasure.instruments.anritsu.AnritsuMS9740A(adapter)"
   ]
  },
  {
   "cell_type": "code",
   "execution_count": null,
   "metadata": {},
   "outputs": [],
   "source": [
    "#ITLA(s,REG_Channel,1,1)\n",
    "\n",
    "#nc=int((196-191.3)//(Grid/10000.0))\n",
    "n1000=int((196-191.3)//(1000/10000.0))+2\n",
    "#n10000=int((196-191.3)//(10000/10000.0))+1\n",
    "\n",
    "ITLA(s,REG_Resena,8,1)\n",
    "sleep(10)\n",
    "\n",
    "#for n in range (1, n1000+1):\n",
    "for n in tqdm(range(1,n1000+1), desc='Progress'):\n",
    "    start = (n - 1)*10\n",
    "    end = (n*10)\n",
    "    #print('Channel = ' + str(ITLA(s,REG_Channel,0,0)))\n",
    "\n",
    "    for i in range(10):\n",
    "        #print('looping = ' + str(i))\n",
    "        ms9710.single_sweep()\n",
    "        x = list(ms9710.read_memory(slot=\"A\")[0])\n",
    "        y = list(ms9710.read_memory(slot=\"A\")[1])\n",
    "        data = pd.DataFrame({'Frequency': x, 'Power': y})\n",
    "        data.to_csv(r\"C:\\Users\\KuChris\\Desktop\\osa\\test\\data_{:02d}_{:02d}.csv\".format(n,i))\n",
    "\n",
    "    joined_files = os.path.join(r\"C:\\Users\\KuChris\\Desktop\\osa\\test\", \"*.csv\")\n",
    "    joined_list = glob.glob(joined_files)\n",
    "    joined_listgroup = joined_list[start:end]\n",
    "\n",
    "    df = pd.concat(map(pd.read_csv, joined_listgroup), ignore_index=False, axis=1)\n",
    "    df = df.drop('Unnamed: 0', axis=1)\n",
    "    dffre = df.iloc[:,0]\n",
    "    dfpower = df.loc[:,['Power' in i for i in df.columns]]\n",
    "    dfpowermean = dfpower.mean(1)\n",
    "    datamean = pd.DataFrame({'Frequency': dffre, 'MeanPower': dfpowermean})\n",
    "    datamean.to_csv(r'C:\\Users\\KuChris\\Desktop\\osa\\testmean\\datamean_{:02d}.csv'.format(n))\n",
    "    \n",
    "    if n == n1000:\n",
    "        break\n",
    "    ITLA(s,REG_Channel,n+1,1)\n",
    "\n",
    "    sleep(10)\n",
    "\n",
    "ITLA(s,REG_Resena,0,1)"
   ]
  },
  {
   "cell_type": "code",
   "execution_count": 12,
   "metadata": {},
   "outputs": [
    {
     "data": {
      "text/plain": [
       "264"
      ]
     },
     "execution_count": 12,
     "metadata": {},
     "output_type": "execute_result"
    }
   ],
   "source": [
    "ITLA(s,REG_Resena,8,1)"
   ]
  },
  {
   "cell_type": "code",
   "execution_count": 13,
   "metadata": {},
   "outputs": [
    {
     "data": {
      "text/plain": [
       "0"
      ]
     },
     "execution_count": 13,
     "metadata": {},
     "output_type": "execute_result"
    }
   ],
   "source": [
    "ITLA(s,REG_Resena,0,1)"
   ]
  },
  {
   "cell_type": "code",
   "execution_count": null,
   "metadata": {},
   "outputs": [],
   "source": [
    "##rename\n",
    "\n",
    "# folder = r\"C:\\Users\\KuChris\\Desktop\\osa\\rename\\test\"\n",
    "# for count, filename in enumerate(os.listdir(folder)):\n",
    "#     dst = f\"datatest09_{str(count)}.csv\"\n",
    "#     src =f\"{folder}/{filename}\"  # foldername/filename, if .py file is outside folder\n",
    "#     dst =f\"{folder}/{dst}\"\n",
    "\n",
    "#     # rename() function will\n",
    "#     # rename all the files\n",
    "#     os.rename(src, dst)"
   ]
  },
  {
   "cell_type": "code",
   "execution_count": null,
   "metadata": {},
   "outputs": [],
   "source": [
    "ms9710.single_sweep()"
   ]
  },
  {
   "cell_type": "code",
   "execution_count": null,
   "metadata": {},
   "outputs": [],
   "source": [
    "nc=int((196-191.3)//(1000/10000.0))\n",
    "print(nc)\n",
    "for n in range (1,nc+100):\n",
    "    print(n)\n",
    "    if n == 48:\n",
    "        break"
   ]
  },
  {
   "cell_type": "code",
   "execution_count": null,
   "metadata": {},
   "outputs": [],
   "source": [
    "n=48\n",
    "start = (n - 1)*10\n",
    "end = (n*10)\n",
    "print('Channel = ' + str(ITLA(s,REG_Channel,0,0)))\n",
    "\n",
    "for i in range(10):\n",
    "    print('looping = ' + str(i))\n",
    "    ms9710.single_sweep()\n",
    "    x = list(ms9710.read_memory(slot=\"A\")[0])\n",
    "    y = list(ms9710.read_memory(slot=\"A\")[1])\n",
    "    data = pd.DataFrame({'Frequency': x, 'Power': y})\n",
    "    data.to_csv(r\"C:\\Users\\KuChris\\Desktop\\osa\\test\\data_{:02d}_{:02d}.csv\".format(n,i))\n",
    "\n",
    "joined_files = os.path.join(r\"C:\\Users\\KuChris\\Desktop\\osa\\test\", \"*.csv\")\n",
    "joined_list = glob.glob(joined_files)\n",
    "joined_listgroup = joined_list[start:end]\n",
    "\n",
    "df = pd.concat(map(pd.read_csv, joined_listgroup), ignore_index=False, axis=1)\n",
    "df = df.drop('Unnamed: 0', axis=1)\n",
    "dffre = df.iloc[:,0]\n",
    "dfpower = df.loc[:,['Power' in i for i in df.columns]]\n",
    "dfpowermean = dfpower.mean(1)\n",
    "datamean = pd.DataFrame({'Frequency': dffre, 'MeanPower': dfpowermean})\n",
    "datamean.to_csv(r'C:\\Users\\KuChris\\Desktop\\osa\\testmean\\datamean_{:02d}.csv'.format(n))"
   ]
  },
  {
   "cell_type": "code",
   "execution_count": null,
   "metadata": {},
   "outputs": [],
   "source": [
    "#ITLA(s,REG_Channel,1,1)\n",
    "\n",
    "#nc=int((196-191.3)//(Grid/10000.0))\n",
    "n = 1\n",
    "n1000=int((196-191.3)//(1000/10000.0))+2\n",
    "#n10000=int((196-191.3)//(10000/10000.0))+1\n",
    "\n",
    "ITLA(s,REG_Resena,8,1)\n",
    "#sleep(30)\n",
    "\n",
    "#for n in range (1, n1000+1):\n",
    "for n in tqdm(range(1,n1000+1), desc='Progress'):\n",
    "    start = (n - 1)*10\n",
    "    end = (n*10)\n",
    "    #print('Channel = ' + str(ITLA(s,REG_Channel,0,0)))\n",
    "    while True:\n",
    "        print(ITLA(s,REG_Oop,0,0))\n",
    "        sleep(1)\n",
    "        if ITLA(s,REG_Oop,0,0) < Power:\n",
    "            sleep(1)\n",
    "        elif ITLA(s,REG_Oop,0,0) > 10000:\n",
    "            sleep(1)\n",
    "        else:\n",
    "            for i in range(10):\n",
    "                print('looping = ' + str(i))\n",
    "                ms9710.single_sweep()\n",
    "                x = list(ms9710.read_memory(slot=\"A\")[0])\n",
    "                y = list(ms9710.read_memory(slot=\"A\")[1])\n",
    "                data = pd.DataFrame({'Frequency': x, 'Power': y})\n",
    "                data.to_csv(r\"C:\\Users\\KuChris\\Desktop\\osa\\test\\data_{:02d}_{:02d}.csv\".format(n,i))\n",
    "\n",
    "            joined_files = os.path.join(r\"C:\\Users\\KuChris\\Desktop\\osa\\test\", \"*.csv\")\n",
    "            joined_list = glob.glob(joined_files)\n",
    "            joined_listgroup = joined_list[start:end]\n",
    "\n",
    "            df = pd.concat(map(pd.read_csv, joined_listgroup), ignore_index=False, axis=1)\n",
    "            df = df.drop('Unnamed: 0', axis=1)\n",
    "            dffre = df.iloc[:,0]\n",
    "            dfpower = df.loc[:,['Power' in i for i in df.columns]]\n",
    "            dfpowermean = dfpower.mean(1)\n",
    "            datamean = pd.DataFrame({'Frequency': dffre, 'MeanPower': dfpowermean})\n",
    "            datamean.to_csv(r'C:\\Users\\KuChris\\Desktop\\osa\\testmean\\datamean_{:02d}.csv'.format(n))\n",
    "\n",
    "            if n == n1000:\n",
    "                break\n",
    "            else:\n",
    "                ITLA(s,REG_Channel,n+1,1)\n",
    "                sleep(1)\n",
    "                if ITLA(s,REG_Oop,0,0) > 10000 or ITLA(s,REG_Oop,0,0) < Power:\n",
    "                    break\n",
    "\n",
    "ITLA(s,REG_Resena,0,1)"
   ]
  },
  {
   "cell_type": "code",
   "execution_count": null,
   "metadata": {},
   "outputs": [],
   "source": [
    "ITLA(s,REG_Resena,0,1)"
   ]
  },
  {
   "cell_type": "code",
   "execution_count": 14,
   "metadata": {},
   "outputs": [
    {
     "data": {
      "application/vnd.jupyter.widget-view+json": {
       "model_id": "bc5985135a674d5d9f2d04f91c5744d6",
       "version_major": 2,
       "version_minor": 0
      },
      "text/plain": [
       "Progress:   0%|          | 0/48 [00:00<?, ?it/s]"
      ]
     },
     "metadata": {},
     "output_type": "display_data"
    },
    {
     "name": "stdout",
     "output_type": "stream",
     "text": [
      "looping = 0\n",
      "looping = 0\n",
      "looping = 0\n",
      "looping = 0\n",
      "looping = 0\n",
      "looping = 0\n",
      "looping = 0\n",
      "looping = 0\n",
      "looping = 0\n",
      "looping = 0\n",
      "looping = 0\n",
      "looping = 0\n",
      "looping = 0\n",
      "looping = 0\n",
      "looping = 0\n",
      "looping = 0\n",
      "looping = 0\n",
      "looping = 0\n",
      "looping = 0\n",
      "looping = 0\n",
      "looping = 0\n",
      "looping = 0\n",
      "looping = 0\n",
      "looping = 0\n",
      "looping = 0\n",
      "looping = 0\n",
      "looping = 0\n",
      "looping = 0\n",
      "looping = 0\n",
      "looping = 0\n",
      "looping = 0\n",
      "looping = 0\n",
      "looping = 0\n",
      "looping = 0\n",
      "looping = 0\n",
      "looping = 0\n",
      "looping = 0\n",
      "looping = 0\n",
      "looping = 0\n",
      "looping = 0\n",
      "looping = 0\n",
      "looping = 0\n",
      "looping = 0\n",
      "looping = 0\n",
      "looping = 0\n",
      "looping = 0\n",
      "looping = 0\n",
      "looping = 0\n"
     ]
    },
    {
     "data": {
      "text/plain": [
       "0"
      ]
     },
     "execution_count": 14,
     "metadata": {},
     "output_type": "execute_result"
    }
   ],
   "source": [
    "#ITLA(s,REG_Channel,1,1)\n",
    "\n",
    "#nc=int((196-191.3)//(Grid/10000.0))\n",
    "n = 1\n",
    "n1000=int((196-191.3)//(1000/10000.0))+2\n",
    "#n10000=int((196-191.3)//(10000/10000.0))+1\n",
    "\n",
    "ITLA(s,REG_Resena,8,1)\n",
    "\n",
    "for n in tqdm(range(1,n1000+1), desc='Progress'):\n",
    "    while True:\n",
    "        #print(ITLA(s,REG_Oop,0,0))\n",
    "        sleep(1)\n",
    "        if ITLA(s,REG_Oop,0,0) < Power:\n",
    "            sleep(1)\n",
    "        elif ITLA(s,REG_Oop,0,0) > 10000:\n",
    "            sleep(1)\n",
    "        else:\n",
    "            for i in range(1):\n",
    "                print('looping = ' + str(i))\n",
    "                ms9710.single_sweep()\n",
    "                x = list(ms9710.read_memory(slot=\"A\")[0])\n",
    "                y = list(ms9710.read_memory(slot=\"A\")[1])\n",
    "                data = pd.DataFrame({'Frequency': x, 'Power': y})\n",
    "                data.to_csv(r\"C:\\Users\\KuChris\\Desktop\\osa\\testmean\\datamean_{:02d}.csv\".format(n))\n",
    "\n",
    "            if n == n1000:\n",
    "                break\n",
    "            else:\n",
    "                ITLA(s,REG_Channel,n+1,1)\n",
    "                sleep(1)\n",
    "                if ITLA(s,REG_Oop,0,0) > 10000 or ITLA(s,REG_Oop,0,0) < Power:\n",
    "                    break\n",
    "\n",
    "ITLA(s,REG_Resena,0,1)"
   ]
  },
  {
   "cell_type": "code",
   "execution_count": 15,
   "metadata": {},
   "outputs": [
    {
     "data": {
      "text/plain": [
       "0"
      ]
     },
     "execution_count": 15,
     "metadata": {},
     "output_type": "execute_result"
    }
   ],
   "source": [
    "ITLA(s,REG_Resena,0,1)"
   ]
  },
  {
   "cell_type": "code",
   "execution_count": null,
   "metadata": {},
   "outputs": [],
   "source": [
    "ms9710.single_sweep()"
   ]
  },
  {
   "cell_type": "code",
   "execution_count": null,
   "metadata": {},
   "outputs": [],
   "source": [
    "x = list(ms9710.read_memory(slot=\"A\")[0])\n",
    "y = list(ms9710.read_memory(slot=\"A\")[1])\n",
    "data = pd.DataFrame({'Frequency': x, 'Power': y})\n",
    "data.to_csv(r\"C:\\Users\\KuChris\\Desktop\\osa\\testmean\\datamean_{:02d}.csv\".format(n))"
   ]
  },
  {
   "cell_type": "code",
   "execution_count": null,
   "metadata": {},
   "outputs": [],
   "source": [
    "ms9710.analysis_result"
   ]
  },
  {
   "cell_type": "code",
   "execution_count": null,
   "metadata": {},
   "outputs": [],
   "source": [
    "ms9710.trace_marker"
   ]
  },
  {
   "cell_type": "code",
   "execution_count": null,
   "metadata": {},
   "outputs": [],
   "source": []
  }
 ],
 "metadata": {
  "interpreter": {
   "hash": "cb432761164ffe643d9b0efa9c1d24b82cb09bfdce3eb2131f8daac950cd384c"
  },
  "kernelspec": {
   "display_name": "Python 3.9.7 ('base')",
   "language": "python",
   "name": "python3"
  },
  "language_info": {
   "codemirror_mode": {
    "name": "ipython",
    "version": 3
   },
   "file_extension": ".py",
   "mimetype": "text/x-python",
   "name": "python",
   "nbconvert_exporter": "python",
   "pygments_lexer": "ipython3",
   "version": "3.9.7"
  },
  "orig_nbformat": 4
 },
 "nbformat": 4,
 "nbformat_minor": 2
}
